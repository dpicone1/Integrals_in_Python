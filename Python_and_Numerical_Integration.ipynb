{
 "cells": [
  {
   "cell_type": "markdown",
   "metadata": {},
   "source": [
    "## Numerical Integration in one dimension"
   ]
  },
  {
   "cell_type": "markdown",
   "metadata": {},
   "source": [
    "The fundamental theorem of calculus provides an explicit formula for the value of a definite integral. \n",
    "\n",
    "Let   $f$  be a real-valued function with antiderivative  $F$, both defined on some open interval that contains points  $a$  and  $b$."
   ]
  },
  {
   "cell_type": "markdown",
   "metadata": {},
   "source": [
    "Then: \n",
    "\n",
    "$$\\int_a^b f(x)dx = F(b) - F(a)$$"
   ]
  },
  {
   "cell_type": "markdown",
   "metadata": {},
   "source": [
    "If we lack an expression for the anti-derivative $F$, we cannot apply the fundamental theorem of calculus, but the integral can be valued using numerical methods of integration. \n",
    "\n",
    "Below, we numerically calculate the definite integral of $f(x)$ with the Riemann sum, the Trapezoid and the Simpson rules\n",
    "\n",
    "Python also offers amazing tools to calculate the numerical integral and derivative of a function. Hence, we will use the embedded Python libraries to check the quality of our numerical routines"
   ]
  },
  {
   "cell_type": "code",
   "execution_count": 1,
   "metadata": {},
   "outputs": [],
   "source": [
    "# Python libraries we need\n",
    "import numpy as np\n",
    "from scipy.integrate import quad  # to integrate with scipy\n",
    "from scipy.misc import derivative # to calculate the numerical derivative with scipy"
   ]
  },
  {
   "cell_type": "code",
   "execution_count": 2,
   "metadata": {},
   "outputs": [],
   "source": [
    "# This is my antiderivative F(x), the sine function\n",
    "def F_sin(x):\n",
    "    return np.sin(x)"
   ]
  },
  {
   "cell_type": "code",
   "execution_count": 3,
   "metadata": {},
   "outputs": [],
   "source": [
    "# The derivative of the sine function F, is given with Python object \"derivative\" in scipy.misc\n",
    "def dF_dx(x):\n",
    "    dFdx = lambda x: derivative(F_sin, x, dx= 0.0001)\n",
    "    return dFdx(x)\n",
    "\n",
    "# But we know that the derivative of sin(x) is\n",
    "def sin_der(x):\n",
    "    return np.cos(x)"
   ]
  },
  {
   "cell_type": "code",
   "execution_count": 4,
   "metadata": {},
   "outputs": [
    {
     "name": "stdout",
     "output_type": "stream",
     "text": [
      "0.9950041636197504\n",
      "0.9950041652780258\n"
     ]
    }
   ],
   "source": [
    "# Before going further let's check the Python derivative in scipy.misc is correctly used\n",
    "x = .1\n",
    "print (dF_dx(x))\n",
    "print (sin_der(x))\n",
    "# and sure it is!"
   ]
  },
  {
   "cell_type": "code",
   "execution_count": 5,
   "metadata": {},
   "outputs": [
    {
     "name": "stdout",
     "output_type": "stream",
     "text": [
      "[0.99500416 0.92106099 0.82533561 0.69670671 0.5403023  0.36235775\n",
      " 0.0707372 ]\n",
      "[0.99500417 0.92106099 0.82533561 0.69670671 0.54030231 0.36235775\n",
      " 0.0707372 ]\n"
     ]
    }
   ],
   "source": [
    "# If we wanted to run the derivate on a list of x's, we have to vectorise the functions\n",
    "\n",
    "x = [0.1, 0.4, 0.6, .8, 1, 1.2, 1.5]\n",
    "Vect_dF_dx   = np.vectorize(dF_dx) \n",
    "Vect_sin_der = np.vectorize(sin_der) \n",
    "\n",
    "print (Vect_dF_dx(x))\n",
    "print (Vect_sin_der(x))"
   ]
  },
  {
   "cell_type": "markdown",
   "metadata": {},
   "source": [
    "### Riemann Sums "
   ]
  },
  {
   "cell_type": "markdown",
   "metadata": {},
   "source": [
    "With the method of Riemann sums we approximate the integral by dividing the interval $[a,b]$ into $n$ subintervals and approximating  $f$ with a constant function on each subinterval.\n",
    "\n",
    "For any positive integer $n$, we define a partition $p$ of [a,b] as $n$ + 1 points x[0] < x[1] < … < x[n], where x[0] = a, x[n] = b and consecutive x[k] are spaced a constant length Δx = (b – a)/$n$ apart.\n",
    "\n",
    "$$\\int_a^b f(x)dx = \\sum_{i=1}^n f(x_i)Δ x $$"
   ]
  },
  {
   "cell_type": "code",
   "execution_count": 6,
   "metadata": {},
   "outputs": [],
   "source": [
    "def Integral_Riemann(f, a, b,n):\n",
    "    enne  = float(n)\n",
    "    h     = (float(b)-float(a))/enne\n",
    "    xvals = [a + i*h for i in range(1, n + 1)]    \n",
    "    f     = np.vectorize(f) \n",
    "    yvals = f(xvals)\n",
    "    return sum(yvals)*h"
   ]
  },
  {
   "cell_type": "markdown",
   "metadata": {},
   "source": [
    "### Trapezoidal Rule"
   ]
  },
  {
   "cell_type": "markdown",
   "metadata": {},
   "source": [
    "The trapezoidal rule, instead of approximating  $f$ with a constant function on each subinterval of $[a,b]$, it does so with a linear polynomial. \n",
    "\n",
    "The region under that linear polynomial is a trapezoid. \n",
    "\n",
    "On each sub-interval x[k–1] and x[k], the trapezoid has area\n",
    "\n",
    "$$0.5[f(x[i-1])+f(x[i])]Δ x $$"
   ]
  },
  {
   "cell_type": "markdown",
   "metadata": {},
   "source": [
    "Summing these areas across all the sub-intervals, we obtain\n",
    "\n",
    "$$\\int_a^b f(x)dx = \\sum_{i=1}^n 0.5[f(x[i-1])+f(x[i])]Δ x $$\n",
    "\n",
    "$$=  0.5(f(x[0])+f(x[n])) + \\sum_{i=1}^{n-1}  f(x[i])Δ x$$"
   ]
  },
  {
   "cell_type": "code",
   "execution_count": 7,
   "metadata": {},
   "outputs": [],
   "source": [
    "# We can prepare the Trapezoid Rule in two ways:\n",
    "\n",
    "# 1\n",
    "def Integral_Trapezoid1(f, a,b,n):\n",
    "    enne  = float(n)\n",
    "    h     = (float(b)-float(a))/enne\n",
    "    xvals = [a + i*h for i in range(1, n)]    \n",
    "    f     = np.vectorize(f) \n",
    "    yvals = f(xvals)\n",
    "    return (sum(yvals) + 0.5*(f(a) + f(b)))*h\n",
    "\n",
    "# 2\n",
    "def Integral_Trapezoid2(f, a,b,n):\n",
    "    enne   = float(n)\n",
    "    h      = (float(b)-float(a))/enne\n",
    "    xvals1 = [a + i*h for i in range(0, n)]\n",
    "    xvals2 = [a + i*h for i in range(1, n + 1)]    \n",
    "    f      = np.vectorize(f) \n",
    "    yvals1 = f(xvals1)\n",
    "    yvals2 = f(xvals2)\n",
    "    return (sum(yvals1) + sum(yvals2))*.5*h"
   ]
  },
  {
   "cell_type": "markdown",
   "metadata": {},
   "source": [
    "### Simpson Rule "
   ]
  },
  {
   "cell_type": "markdown",
   "metadata": {},
   "source": [
    "Instead of approximating  $f$ with constant functions or linear polynomials, the Simpson rule does so with quadratic polynomials. \n",
    "\n",
    "We select a partition  $p$ of the interval [a, b] for some even number  $n$. On each pair of consecutive subintervals, the area under  $f$  is approximated with the area under a quadratic polynomial: \n",
    "\n",
    "$$[ f(x[i-1])+4f(x[i])+f(x[i+1]) ]\\frac{Δx}{3} $$"
   ]
  },
  {
   "cell_type": "markdown",
   "metadata": {},
   "source": [
    "Summing these areas across all the sub-intervals, we obtain\n",
    "\n",
    "$$\\int_a^b f(x)dx =[ f(x[0])+4f(x[1])+2f(x[2])+4f(x[3])+2f(x[4])+...+4f(x[n-1]+f(x[n])) ]\\frac{Δx}{3} $$"
   ]
  },
  {
   "cell_type": "code",
   "execution_count": 8,
   "metadata": {},
   "outputs": [],
   "source": [
    "def Integral_SimpsonRule(f, a,b,n):\n",
    "    enne      = float(n)\n",
    "    h         = (float(b)-float(a))/enne\n",
    "    xvalsOdd  = [a + i*h for i in range(1, n    , 2)]\n",
    "    xvalsEven = [a + i*h for i in range(2, n - 1, 2)]    \n",
    "    f         = np.vectorize(f) \n",
    "    yvalsOdd  = f(xvalsOdd)\n",
    "    yvalsEven = f(xvalsEven)    \n",
    "    return (4/3.0*sum(yvalsOdd) + 2/3.0*sum(yvalsEven) + 1/3.0*f(a) + 1/3.0*f(b))*h\n"
   ]
  },
  {
   "cell_type": "markdown",
   "metadata": {},
   "source": [
    "### Let's run them"
   ]
  },
  {
   "cell_type": "code",
   "execution_count": 9,
   "metadata": {},
   "outputs": [
    {
     "name": "stdout",
     "output_type": "stream",
     "text": [
      "Fundamental Theorem of calculus \n",
      "0.15602400179615794\n",
      "Integrate the density (derivative) with quad-scipy.integrate AND derivative-scipy.misc \n",
      "0.15602400153606652\n"
     ]
    }
   ],
   "source": [
    "b = 1.5\n",
    "a = 1.0\n",
    "print (\"Fundamental Theorem of calculus \")\n",
    "print (F_sin(b)- F_sin(a))\n",
    "    \n",
    "print (\"Integrate the density (derivative) with quad-scipy.integrate AND derivative-scipy.misc \")\n",
    "print (quad(dF_dx, a, b)[0])"
   ]
  },
  {
   "cell_type": "code",
   "execution_count": 10,
   "metadata": {},
   "outputs": [
    {
     "name": "stdout",
     "output_type": "stream",
     "text": [
      " Riemann Sum \n",
      "0.15590660700974696\n",
      " Trapezoid Rule\n",
      "0.15602399828560132\n",
      "0.15602399828560135\n",
      " Simpson Rule \n",
      "0.15602400153664117\n"
     ]
    }
   ],
   "source": [
    "print (\" Riemann Sum \")\n",
    "print (Integral_Riemann(dF_dx, a, b, 1000))\n",
    "print (\" Trapezoid Rule\" )\n",
    "print (Integral_Trapezoid1(dF_dx, a, b, 1000))\n",
    "print (Integral_Trapezoid2(dF_dx, a, b, 1000))    \n",
    "print (\" Simpson Rule \")\n",
    "print (Integral_SimpsonRule(dF_dx, a, b, 100))"
   ]
  },
  {
   "cell_type": "markdown",
   "metadata": {},
   "source": [
    "### Let's check the errors against the Fundamental Theorem of calculus"
   ]
  },
  {
   "cell_type": "markdown",
   "metadata": {},
   "source": [
    "The Simpson rule is as good as the Python quad routine in scipy.integrate\n",
    "\n",
    "The Rienmann sum is quite poor indeed! Even with 10000 subintervals we do not reach the same accuracy "
   ]
  },
  {
   "cell_type": "code",
   "execution_count": 11,
   "metadata": {},
   "outputs": [
    {
     "name": "stdout",
     "output_type": "stream",
     "text": [
      " Let's check the errors \n",
      "6.764754708168965e-20\n",
      "6.734895348845556e-20\n",
      "1.378139853782757e-10\n",
      "1.232400780452728e-17\n",
      "1.2324007609652242e-17\n"
     ]
    }
   ],
   "source": [
    "print (\" Let's check the errors \")\n",
    "a1 = F_sin(b)- F_sin(a) \n",
    "\n",
    "b1 = quad(dF_dx, a, b)[0]\n",
    "f1 = (Integral_SimpsonRule(dF_dx, a, b, 100))\n",
    "\n",
    "c1 = (Integral_Riemann(dF_dx, a, b,     10000)) \n",
    "d1 = (Integral_Trapezoid1(dF_dx, a, b,  1000))\n",
    "e1 = (Integral_Trapezoid2(dF_dx, a, b,  1000))\n",
    "\n",
    "print ((a1-b1)**2)\n",
    "print ((a1-f1)**2)\n",
    "print ((a1-c1)**2)\n",
    "print ((a1-d1)**2)\n",
    "print ((a1-e1)**2)"
   ]
  },
  {
   "cell_type": "code",
   "execution_count": 12,
   "metadata": {},
   "outputs": [
    {
     "name": "stdout",
     "output_type": "stream",
     "text": [
      "0.15333301647091213\n",
      "0.1533327001889948\n",
      "0.15602400153606652\n"
     ]
    },
    {
     "data": {
      "text/plain": [
       "'integrals  = [simps(yvals[0:i], xvals[0:i]) for i in range(1, n+1)]\\nintegrals2 = [Integral_SimpsonRule(dF_dx, a, a+i*h, 100) for i in range(1, n+1)]\\nintegrals3 = np.zeros(n)\\n\\nfor i in range(1, n+1):\\n    a = 1\\n    b = a + i*h\\n    n = 100\\n    enne = float(n)\\n    h2   = (float(b)-float(a))/enne\\n    xvals= [a + i*h2 for i in range(1, n+1)]    \\n    f    = np.vectorize(dF_dx)\\n    yvals= f(xvals)\\n\\n    integrals3[i - 1] = (simps(yvals, xvals))\\n\\n\\nprint (integrals [-1])\\nprint (integrals2[-1])\\nprint (integrals3[-1])\\n\\nimport matplotlib.pyplot as plt\\n\\nplt.plot(xvals, integrals)\\nplt.plot(xvals, integrals2)\\nplt.plot(xvals, integrals3)'"
      ]
     },
     "execution_count": 12,
     "metadata": {},
     "output_type": "execute_result"
    }
   ],
   "source": [
    "# Let's use two additional integration objects from scipy.integrate: simps and trapz   \n",
    "from scipy.integrate import simps, trapz\n",
    "n = 100\n",
    "enne = float(n)\n",
    "h    = (float(b)-float(a))/enne\n",
    "xvals= [a + i*h for i in range(1, n+1)]    \n",
    "f    = np.vectorize(dF_dx)\n",
    "yvals= f(xvals)\n",
    "\n",
    "print (simps(yvals, xvals))\n",
    "print (trapz(yvals, xvals))\n",
    "print (quad(dF_dx, a, b)[0])"
   ]
  },
  {
   "cell_type": "markdown",
   "metadata": {},
   "source": [
    "### Let's use all the above on the density of the standard normal distribution"
   ]
  },
  {
   "cell_type": "markdown",
   "metadata": {},
   "source": [
    "the density is"
   ]
  },
  {
   "cell_type": "markdown",
   "metadata": {},
   "source": [
    "$$ f(x) = \\frac{e^{-0.5x^{2}}}{\\sqrt{2\\pi}}$$"
   ]
  },
  {
   "cell_type": "markdown",
   "metadata": {},
   "source": [
    "and the distribution function"
   ]
  },
  {
   "cell_type": "markdown",
   "metadata": {},
   "source": [
    "$$ F(x) = \\int_{-\\infty}^{x} f(s)ds $$"
   ]
  },
  {
   "cell_type": "code",
   "execution_count": 13,
   "metadata": {},
   "outputs": [],
   "source": [
    "def nor(x):\n",
    "    return np.exp(-(x**2)/2.0)/np.sqrt(2*np.pi)"
   ]
  },
  {
   "cell_type": "code",
   "execution_count": 14,
   "metadata": {},
   "outputs": [
    {
     "name": "stdout",
     "output_type": "stream",
     "text": [
      "STANDARD NORMAL : DENSITY AND DISTRIBUTION\n",
      "FUNDAMENTAL THEOREM OF CALCULUS with quad\n",
      "0.3413447460685436\n"
     ]
    }
   ],
   "source": [
    "print (\"STANDARD NORMAL : DENSITY AND DISTRIBUTION\")\n",
    "a1 = quad(nor, -np.inf, 0)[0]\n",
    "a2 = quad(nor, -np.inf, 1)[0]\n",
    "print (\"FUNDAMENTAL THEOREM OF CALCULUS with quad\")\n",
    "print (a2 - a1)"
   ]
  },
  {
   "cell_type": "markdown",
   "metadata": {},
   "source": [
    "We integrate with both quad and Simpson Rule"
   ]
  },
  {
   "cell_type": "code",
   "execution_count": 15,
   "metadata": {},
   "outputs": [
    {
     "name": "stdout",
     "output_type": "stream",
     "text": [
      "Integrate the density (derivative) with quad-scipy.integrate\n",
      "0.341344746068543\n",
      "and with Simpson Rule \n",
      "0.3413447628870818\n"
     ]
    }
   ],
   "source": [
    "print (\"Integrate the density (derivative) with quad-scipy.integrate\")\n",
    "print (quad(nor, 0, 1)[0])\n",
    "print (\"and with Simpson Rule \")\n",
    "print (Integral_SimpsonRule(nor, 0, 1, 20))"
   ]
  }
 ],
 "metadata": {
  "kernelspec": {
   "display_name": "Python 3",
   "language": "python",
   "name": "python3"
  },
  "language_info": {
   "codemirror_mode": {
    "name": "ipython",
    "version": 3
   },
   "file_extension": ".py",
   "mimetype": "text/x-python",
   "name": "python",
   "nbconvert_exporter": "python",
   "pygments_lexer": "ipython3",
   "version": "3.6.4"
  }
 },
 "nbformat": 4,
 "nbformat_minor": 2
}
